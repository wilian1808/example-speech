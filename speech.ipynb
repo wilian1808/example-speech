{
  "cells": [
    {
      "cell_type": "code",
      "execution_count": null,
      "metadata": {
        "colab": {
          "base_uri": "https://localhost:8080/"
        },
        "id": "62TXwx6ilaXP",
        "outputId": "ff49a37d-9c26-44ba-bfd3-317feaa7aec8"
      },
      "outputs": [
        {
          "name": "stdout",
          "output_type": "stream",
          "text": [
            "Looking in indexes: https://pypi.org/simple, https://us-python.pkg.dev/colab-wheels/public/simple/\n",
            "Collecting transformers\n",
            "  Downloading transformers-4.23.1-py3-none-any.whl (5.3 MB)\n",
            "\u001b[K     |████████████████████████████████| 5.3 MB 6.5 MB/s \n",
            "\u001b[?25hRequirement already satisfied: filelock in /usr/local/lib/python3.7/dist-packages (from transformers) (3.8.0)\n",
            "Collecting huggingface-hub<1.0,>=0.10.0\n",
            "  Downloading huggingface_hub-0.10.1-py3-none-any.whl (163 kB)\n",
            "\u001b[K     |████████████████████████████████| 163 kB 39.5 MB/s \n",
            "\u001b[?25hRequirement already satisfied: regex!=2019.12.17 in /usr/local/lib/python3.7/dist-packages (from transformers) (2022.6.2)\n",
            "Requirement already satisfied: packaging>=20.0 in /usr/local/lib/python3.7/dist-packages (from transformers) (21.3)\n",
            "Requirement already satisfied: importlib-metadata in /usr/local/lib/python3.7/dist-packages (from transformers) (5.0.0)\n",
            "Requirement already satisfied: requests in /usr/local/lib/python3.7/dist-packages (from transformers) (2.23.0)\n",
            "Requirement already satisfied: tqdm>=4.27 in /usr/local/lib/python3.7/dist-packages (from transformers) (4.64.1)\n",
            "Requirement already satisfied: pyyaml>=5.1 in /usr/local/lib/python3.7/dist-packages (from transformers) (6.0)\n",
            "Collecting tokenizers!=0.11.3,<0.14,>=0.11.1\n",
            "  Downloading tokenizers-0.13.1-cp37-cp37m-manylinux_2_17_x86_64.manylinux2014_x86_64.whl (7.6 MB)\n",
            "\u001b[K     |████████████████████████████████| 7.6 MB 18.2 MB/s \n",
            "\u001b[?25hRequirement already satisfied: numpy>=1.17 in /usr/local/lib/python3.7/dist-packages (from transformers) (1.21.6)\n",
            "Requirement already satisfied: typing-extensions>=3.7.4.3 in /usr/local/lib/python3.7/dist-packages (from huggingface-hub<1.0,>=0.10.0->transformers) (4.1.1)\n",
            "Requirement already satisfied: pyparsing!=3.0.5,>=2.0.2 in /usr/local/lib/python3.7/dist-packages (from packaging>=20.0->transformers) (3.0.9)\n",
            "Requirement already satisfied: zipp>=0.5 in /usr/local/lib/python3.7/dist-packages (from importlib-metadata->transformers) (3.8.1)\n",
            "Requirement already satisfied: chardet<4,>=3.0.2 in /usr/local/lib/python3.7/dist-packages (from requests->transformers) (3.0.4)\n",
            "Requirement already satisfied: urllib3!=1.25.0,!=1.25.1,<1.26,>=1.21.1 in /usr/local/lib/python3.7/dist-packages (from requests->transformers) (1.24.3)\n",
            "Requirement already satisfied: idna<3,>=2.5 in /usr/local/lib/python3.7/dist-packages (from requests->transformers) (2.10)\n",
            "Requirement already satisfied: certifi>=2017.4.17 in /usr/local/lib/python3.7/dist-packages (from requests->transformers) (2022.9.24)\n",
            "Installing collected packages: tokenizers, huggingface-hub, transformers\n",
            "Successfully installed huggingface-hub-0.10.1 tokenizers-0.13.1 transformers-4.23.1\n"
          ]
        }
      ],
      "source": [
        "!pip install -q transformers"
      ]
    },
    {
      "cell_type": "code",
      "execution_count": null,
      "metadata": {
        "id": "CkcaOqvrlsX7"
      },
      "outputs": [],
      "source": [
        "import librosa\n",
        "import torch\n",
        "from transformers import Wav2Vec2ForCTC, Wav2Vec2Tokenizer"
      ]
    },
    {
      "cell_type": "markdown",
      "metadata": {
        "id": "7l0VwAOQx0M-"
      },
      "source": [
        "**Leemos el archivo de audio**"
      ]
    },
    {
      "cell_type": "code",
      "execution_count": null,
      "metadata": {
        "colab": {
          "base_uri": "https://localhost:8080/",
          "height": 75
        },
        "id": "lNrE0dWrmA4A",
        "outputId": "2dde8b64-8970-4a0c-e9ba-55cd437558d6"
      },
      "outputs": [
        {
          "data": {
            "text/html": [
              "\n",
              "                <audio  controls=\"controls\" autoplay=\"autoplay\">\n",
              "                    <source src=\"data:audio/mpeg;base64,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\" type=\"audio/mpeg\" />\n",
              "                    Your browser does not support the audio element.\n",
              "                </audio>\n",
              "              "
            ],
            "text/plain": [
              "<IPython.lib.display.Audio object>"
            ]
          },
          "execution_count": 15,
          "metadata": {},
          "output_type": "execute_result"
        }
      ],
      "source": [
        "\n",
        "import IPython.display as display\n",
        "display.Audio(\"/content/drive/MyDrive/audios/ENGFND1_0006.mp3\", autoplay=True)"
      ]
    },
    {
      "cell_type": "markdown",
      "metadata": {
        "id": "m0wI20otyOtr"
      },
      "source": [
        "**Cargamos el archivo de audio**"
      ]
    },
    {
      "cell_type": "markdown",
      "metadata": {
        "id": "xMtMHFImysS7"
      },
      "source": [
        "Tenga en cuenta que el modelo Wav2Vec está preentrenado en una frecuencia de 16 kHz (kilohercio), por lo que debemos asegurarnos de que nuestro archivo de audio sin procesar también se vuelva a muestrear a una frecuencia de muestreo de 16 kHz."
      ]
    },
    {
      "cell_type": "code",
      "execution_count": null,
      "metadata": {
        "colab": {
          "base_uri": "https://localhost:8080/"
        },
        "id": "2IiDmJVXotpG",
        "outputId": "75451461-84eb-4774-b0b3-defb18aa09c6"
      },
      "outputs": [
        {
          "name": "stderr",
          "output_type": "stream",
          "text": [
            "/usr/local/lib/python3.7/dist-packages/librosa/core/audio.py:165: UserWarning: PySoundFile failed. Trying audioread instead.\n",
            "  warnings.warn(\"PySoundFile failed. Trying audioread instead.\")\n"
          ]
        }
      ],
      "source": [
        "audio, rate = librosa.load(\"/content/drive/MyDrive/audios/ENGFND1_0006.mp3\", sr = 16000)"
      ]
    },
    {
      "cell_type": "code",
      "execution_count": null,
      "metadata": {
        "colab": {
          "base_uri": "https://localhost:8080/"
        },
        "id": "nt9Sy2pvppzO",
        "outputId": "a5164315-775d-4345-a368-6094bb3e72ca"
      },
      "outputs": [
        {
          "name": "stdout",
          "output_type": "stream",
          "text": [
            "[-1.8374854e-08  2.3411850e-08 -2.7227742e-08 ...  0.0000000e+00\n",
            "  0.0000000e+00  0.0000000e+00]\n"
          ]
        }
      ],
      "source": [
        "print(audio)"
      ]
    },
    {
      "cell_type": "code",
      "execution_count": null,
      "metadata": {
        "colab": {
          "base_uri": "https://localhost:8080/"
        },
        "id": "ffr_O2kZprAt",
        "outputId": "e3d0e13a-8628-487c-b58c-62a25b22a240"
      },
      "outputs": [
        {
          "name": "stdout",
          "output_type": "stream",
          "text": [
            "16000\n"
          ]
        }
      ],
      "source": [
        "print(rate)"
      ]
    },
    {
      "cell_type": "markdown",
      "metadata": {
        "id": "q3ebJ6Rty-Uj"
      },
      "source": [
        "**Importamos el modelo Wav2vec preentrenado**"
      ]
    },
    {
      "cell_type": "code",
      "execution_count": null,
      "metadata": {
        "colab": {
          "base_uri": "https://localhost:8080/"
        },
        "id": "RcJr35YqpsWm",
        "outputId": "e8dab62a-63e8-40e5-a0ea-dce8c0b5b883"
      },
      "outputs": [
        {
          "name": "stderr",
          "output_type": "stream",
          "text": [
            "The tokenizer class you load from this checkpoint is not the same type as the class this function is called from. It may result in unexpected tokenization. \n",
            "The tokenizer class you load from this checkpoint is 'Wav2Vec2CTCTokenizer'. \n",
            "The class this function is called from is 'Wav2Vec2Tokenizer'.\n",
            "/usr/local/lib/python3.7/dist-packages/transformers/models/wav2vec2/tokenization_wav2vec2.py:757: FutureWarning: The class `Wav2Vec2Tokenizer` is deprecated and will be removed in version 5 of Transformers. Please use `Wav2Vec2Processor` or `Wav2Vec2CTCTokenizer` instead.\n",
            "  FutureWarning,\n",
            "Some weights of Wav2Vec2ForCTC were not initialized from the model checkpoint at facebook/wav2vec2-base-960h and are newly initialized: ['wav2vec2.masked_spec_embed']\n",
            "You should probably TRAIN this model on a down-stream task to be able to use it for predictions and inference.\n"
          ]
        }
      ],
      "source": [
        "tokenizer = Wav2Vec2Tokenizer.from_pretrained(\"facebook/wav2vec2-base-960h\")\n",
        "model = Wav2Vec2ForCTC.from_pretrained(\"facebook/wav2vec2-base-960h\")"
      ]
    },
    {
      "cell_type": "markdown",
      "metadata": {
        "id": "z_zxTyvyzXXR"
      },
      "source": [
        "El siguiente paso es tomar los valores de entrada, pasar el audio (matriz) al tokenizador. Tambien queremos nuestros tensores en formato PyTorch en lugar de enteros de Python. return_tensors = “pt” que no es más que el formato PyTorch."
      ]
    },
    {
      "cell_type": "code",
      "execution_count": null,
      "metadata": {
        "id": "b6Ori2KlpuRx"
      },
      "outputs": [],
      "source": [
        "input_values = tokenizer(audio, return_tensors = \"pt\").input_values"
      ]
    },
    {
      "cell_type": "markdown",
      "metadata": {
        "id": "6DuCXIaX7b1n"
      },
      "source": [
        "Obtener los valores logit (valores no normalizados)"
      ]
    },
    {
      "cell_type": "code",
      "execution_count": null,
      "metadata": {
        "id": "jeRPopdypvzi"
      },
      "outputs": [],
      "source": [
        "logits = model(input_values).logits"
      ]
    },
    {
      "cell_type": "markdown",
      "metadata": {
        "id": "qClMROee8acl"
      },
      "source": [
        "pasamos los valores logit a softmax para obtener los valores predichos"
      ]
    },
    {
      "cell_type": "code",
      "execution_count": null,
      "metadata": {
        "id": "F3nhdz2opxI7"
      },
      "outputs": [],
      "source": [
        "prediction = torch.argmax(logits, dim = -1)"
      ]
    },
    {
      "cell_type": "markdown",
      "metadata": {
        "id": "IpBqeTGfzqar"
      },
      "source": [
        "**Convertimos el audio a texto**"
      ]
    },
    {
      "cell_type": "code",
      "execution_count": null,
      "metadata": {
        "id": "3CDspGaWpyi-"
      },
      "outputs": [],
      "source": [
        "transcription = tokenizer.batch_decode(prediction)[0]"
      ]
    },
    {
      "cell_type": "code",
      "execution_count": null,
      "metadata": {
        "colab": {
          "base_uri": "https://localhost:8080/"
        },
        "id": "Xbsum1YSpzqi",
        "outputId": "1296c6a4-e244-4b37-c41a-8b97743fe1d9"
      },
      "outputs": [
        {
          "name": "stdout",
          "output_type": "stream",
          "text": [
            "EXCUSE ME\n"
          ]
        }
      ],
      "source": [
        "print(transcription)"
      ]
    }
  ],
  "metadata": {
    "colab": {
      "provenance": []
    },
    "kernelspec": {
      "display_name": "Python 2.7.17 64-bit",
      "language": "python",
      "name": "python3"
    },
    "language_info": {
      "name": "python",
      "version": "2.7.17"
    },
    "vscode": {
      "interpreter": {
        "hash": "767d51c1340bd893661ea55ea3124f6de3c7a262a8b4abca0554b478b1e2ff90"
      }
    }
  },
  "nbformat": 4,
  "nbformat_minor": 0
}
